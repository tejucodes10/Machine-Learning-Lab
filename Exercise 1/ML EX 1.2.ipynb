{
 "cells": [
  {
   "cell_type": "markdown",
   "id": "c67ae609",
   "metadata": {},
   "source": [
    "# MACHINE LEARNING LAB\n",
    "\n",
    "## EXERCISE 1.2\n",
    "\n",
    "### Aim : \n",
    "Use the data1.csv to build a simple linear regression from scratch without using sklearn libraries and print the RMSE and mean absolute error values. Use both the equations available in the slides (in theory page) to build the model and compare the intercept and coefficient values."
   ]
  },
  {
   "cell_type": "markdown",
   "id": "20ac2dfd",
   "metadata": {},
   "source": [
    "### Algorithm : \n",
    "\n",
    "1. **Initialize Variables**: \n",
    "   - Initialize variables `X_max`, `X_min`, `X_mean`, and `y_mean` to `None` or `0`.\n",
    "   - Determine the length of the dataset `n`.\n",
    "\n",
    "2. **Calculate Mean and Extremes**: \n",
    "   - Iterate through each row of the dataset.\n",
    "   - Update `X_max` and `X_min` with the maximum and minimum `x` values encountered.\n",
    "   - Calculate the sums of `x` and `y` values to compute their means.\n",
    "\n",
    "3. **Calculate Slope and Intercept**:\n",
    "   - Compute the means of `x` and `y`.\n",
    "   - Calculate the numerator and denominator of the slope formula using the dataset's `x` and `y` values.\n",
    "   - Calculate the slope `m` and intercept `c` using the obtained numerator and denominator.\n",
    "\n",
    "4. **Compute Errors**:\n",
    "   - Initialize variables for Root Mean Squared Error (`RMSE`) and Mean Absolute Error (`MAE`) to 0.\n",
    "   - Iterate through each data point in the dataset.\n",
    "   - Compute the squared difference between the actual `y` value and the predicted `y` value using the linear regression equation to update `RMSE`.\n",
    "   - Compute the absolute difference between the actual `y` value and the predicted `y` value to update `MAE`.\n",
    "\n",
    "5. **Calculate Summary Statistics**:\n",
    "   - Compute the mean values of `RMSE` and `MAE`.\n",
    "   - Calculate the predicted `y` values corresponding to the minimum and maximum `x` values.\n",
    "   - Return the slope `m`, intercept `c`, Root Mean Squared Error `RMSE`, Mean Absolute Error `MAE`, minimum `x` value `X_min`, minimum `y` value `y_min`, maximum `x` value `X_max`, and maximum `y` value `y_max`."
   ]
  },
  {
   "cell_type": "markdown",
   "id": "2706d97f",
   "metadata": {},
   "source": [
    "### Code and Output : "
   ]
  },
  {
   "cell_type": "code",
   "execution_count": 35,
   "id": "39addb42",
   "metadata": {},
   "outputs": [],
   "source": [
    "import pandas as pd\n",
    "import numpy as np\n",
    "import matplotlib.pyplot as plt\n",
    "import seaborn as sns"
   ]
  },
  {
   "cell_type": "code",
   "execution_count": 36,
   "id": "978400c5",
   "metadata": {},
   "outputs": [],
   "source": [
    "data=pd.read_csv(r\"C:\\Users\\TEJU\\Downloads\\data1 (1).csv\")"
   ]
  },
  {
   "cell_type": "code",
   "execution_count": 37,
   "id": "a2cd807f",
   "metadata": {},
   "outputs": [
    {
     "data": {
      "text/html": [
       "<div>\n",
       "<style scoped>\n",
       "    .dataframe tbody tr th:only-of-type {\n",
       "        vertical-align: middle;\n",
       "    }\n",
       "\n",
       "    .dataframe tbody tr th {\n",
       "        vertical-align: top;\n",
       "    }\n",
       "\n",
       "    .dataframe thead th {\n",
       "        text-align: right;\n",
       "    }\n",
       "</style>\n",
       "<table border=\"1\" class=\"dataframe\">\n",
       "  <thead>\n",
       "    <tr style=\"text-align: right;\">\n",
       "      <th></th>\n",
       "      <th>x</th>\n",
       "      <th>y</th>\n",
       "    </tr>\n",
       "  </thead>\n",
       "  <tbody>\n",
       "    <tr>\n",
       "      <th>0</th>\n",
       "      <td>17</td>\n",
       "      <td>94</td>\n",
       "    </tr>\n",
       "    <tr>\n",
       "      <th>1</th>\n",
       "      <td>13</td>\n",
       "      <td>73</td>\n",
       "    </tr>\n",
       "    <tr>\n",
       "      <th>2</th>\n",
       "      <td>12</td>\n",
       "      <td>59</td>\n",
       "    </tr>\n",
       "    <tr>\n",
       "      <th>3</th>\n",
       "      <td>15</td>\n",
       "      <td>80</td>\n",
       "    </tr>\n",
       "    <tr>\n",
       "      <th>4</th>\n",
       "      <td>16</td>\n",
       "      <td>93</td>\n",
       "    </tr>\n",
       "  </tbody>\n",
       "</table>\n",
       "</div>"
      ],
      "text/plain": [
       "    x   y\n",
       "0  17  94\n",
       "1  13  73\n",
       "2  12  59\n",
       "3  15  80\n",
       "4  16  93"
      ]
     },
     "execution_count": 37,
     "metadata": {},
     "output_type": "execute_result"
    }
   ],
   "source": [
    "data.head()"
   ]
  },
  {
   "cell_type": "code",
   "execution_count": 38,
   "id": "9f70589a",
   "metadata": {},
   "outputs": [
    {
     "name": "stdout",
     "output_type": "stream",
     "text": [
      "<class 'pandas.core.frame.DataFrame'>\n",
      "RangeIndex: 120 entries, 0 to 119\n",
      "Data columns (total 2 columns):\n",
      " #   Column  Non-Null Count  Dtype\n",
      "---  ------  --------------  -----\n",
      " 0   x       120 non-null    int64\n",
      " 1   y       120 non-null    int64\n",
      "dtypes: int64(2)\n",
      "memory usage: 2.0 KB\n"
     ]
    }
   ],
   "source": [
    "data.info()"
   ]
  },
  {
   "cell_type": "code",
   "execution_count": 39,
   "id": "22a9f1fd",
   "metadata": {},
   "outputs": [],
   "source": [
    "#Function for calculating absolute value of a number\n",
    "def abs(x):\n",
    "    if x>0:\n",
    "        return x\n",
    "    else:\n",
    "        return -x"
   ]
  },
  {
   "cell_type": "code",
   "execution_count": 44,
   "id": "0742d286",
   "metadata": {},
   "outputs": [],
   "source": [
    "#Function for computing linear regression\n",
    "def LinearRegression(data):\n",
    "    X_max=None\n",
    "    X_min=None\n",
    "    X_mean=0\n",
    "    y_mean=0\n",
    "    n=len(data)\n",
    "    \n",
    "    for i in range(0,n):\n",
    "        #All the first column values(0), one by one\n",
    "        x=data.iloc[i,0]\n",
    "        if(X_max==None):\n",
    "            X_max=x\n",
    "        elif(x>X_max):\n",
    "            X_max=x\n",
    "        if(X_min==None):\n",
    "            X_min=x\n",
    "        elif(x<X_min):\n",
    "            X_min=x\n",
    "        \n",
    "        #All the second column values (1),one by one\n",
    "        y=data.iloc[i,1]\n",
    "        X_mean=x+X_mean\n",
    "        y_mean=y+y_mean\n",
    "        \n",
    "    #calculating final value of X mean and y mean\n",
    "    X_mean=X_mean/n\n",
    "    y_mean=y_mean/n\n",
    "        \n",
    "    numerator=0\n",
    "    denominator=0\n",
    "    \n",
    "    for i in range(0,n):\n",
    "        #Applying formula : summation of xy-ymeanx/summation of xsquare-xmeanx\n",
    "        x=data.iloc[i,0]\n",
    "        y=data.iloc[i,1]\n",
    "        numerator=numerator+((x*y)-(y_mean*x))\n",
    "        denominator = denominator + ((x * x) - (X_mean * x))\n",
    "    \n",
    "    slope=numerator/denominator\n",
    "    #y=mx+c\n",
    "    c=y_mean-(slope*X_mean)\n",
    "    \n",
    "    #Calculating root mean square error and mean absolute error\n",
    "    RMSE=0\n",
    "    MAE=0\n",
    "    for i in range(0,n):\n",
    "        x=data.iloc[i,0]\n",
    "        y=data.iloc[i,1]\n",
    "        #rmse is summation of (y-mx+c)^2\n",
    "        RMSE=RMSE+((y-((slope*x)+c))**2)\n",
    "        #mae is the summation of abs of y-mx+c\n",
    "        MAE=MAE+abs(y-((slope*x)+c))\n",
    "    #rmse is root of rmse/n\n",
    "    RMSE=RMSE/n\n",
    "    RMSE=RMSE**(0.5)\n",
    "    #mae is mae/n\n",
    "    MAE=MAE/n\n",
    "    #Calculating y_min and y_max (the two end points)\n",
    "    y_min=(slope*X_min)+c\n",
    "    y_max=(slope*X_max)+c\n",
    "    return slope, c, RMSE, MAE, X_min, y_min, X_max, y_max"
   ]
  },
  {
   "cell_type": "code",
   "execution_count": 45,
   "id": "12bb2cb5",
   "metadata": {},
   "outputs": [],
   "source": [
    "slope, c, RMSE, MAE, x1, y1, x2, y2 = LinearRegression(data)"
   ]
  },
  {
   "cell_type": "code",
   "execution_count": 46,
   "id": "fda94142",
   "metadata": {},
   "outputs": [
    {
     "data": {
      "text/plain": [
       "Text(0.5, 0, 'X')"
      ]
     },
     "execution_count": 46,
     "metadata": {},
     "output_type": "execute_result"
    },
    {
     "data": {
      "image/png": "[encoded data removed]",
      "text/plain": [
       "<Figure size 432x288 with 1 Axes>"
      ]
     },
     "metadata": {
      "needs_background": "light"
     },
     "output_type": "display_data"
    }
   ],
   "source": [
    "plt.figure()\n",
    "plt.scatter(data.iloc[:,0],data.iloc[:,1],s=10,c='blue')\n",
    "plt.plot([x1,x2],[y1,y2],color='red')\n",
    "plt.legend(['Data Points','Line of Best Fit'])\n",
    "plt.ylabel(\"Y\")\n",
    "plt.xlabel(\"X\")"
   ]
  },
  {
   "cell_type": "code",
   "execution_count": 47,
   "id": "b4dd4066",
   "metadata": {},
   "outputs": [
    {
     "name": "stdout",
     "output_type": "stream",
     "text": [
      "Line equation is: y = 3.179245283018851*x + 30.10377358490593\n",
      "Slope 'm' is: 3.179245283018851\n",
      "Constant 'c' is: 30.10377358490593\n",
      "RMSE: 8.817810022046611\n",
      "Mean Absolute Error: 7.305660377358496\n"
     ]
    }
   ],
   "source": [
    "print(\"Line equation is: y = \" + str(slope) + \"*x + \" + str(c))\n",
    "print(\"Slope 'm' is: \" + str(slope))\n",
    "print(\"Constant 'c' is: \" + str(c))\n",
    "print(\"RMSE: \" + str(RMSE))\n",
    "print(\"Mean Absolute Error: \" + str(MAE))"
   ]
  },
  {
   "cell_type": "markdown",
   "id": "c8da0198",
   "metadata": {},
   "source": [
    "### Results : \n",
    "Therefore, we were succesfully able to implement linear regression from scratch and get the line equation, rmse, mae, slope and intercept values"
   ]
  }
 ],
 "metadata": {
  "kernelspec": {
   "display_name": "Python 3 (ipykernel)",
   "language": "python",
   "name": "python3"
  },
  "language_info": {
   "codemirror_mode": {
    "name": "ipython",
    "version": 3
   },
   "file_extension": ".py",
   "mimetype": "text/x-python",
   "name": "python",
   "nbconvert_exporter": "python",
   "pygments_lexer": "ipython3",
   "version": "3.9.7"
  }
 },
 "nbformat": 4,
 "nbformat_minor": 5
}
