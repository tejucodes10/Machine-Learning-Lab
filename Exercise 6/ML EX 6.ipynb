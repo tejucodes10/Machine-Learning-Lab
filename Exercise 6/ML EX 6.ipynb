{
 "cells": [
  {
   "cell_type": "markdown",
   "id": "b674d4c2",
   "metadata": {},
   "source": [
    "# MACHINE LEARNING LAB\n",
    "\n",
    "## EXERCISE 6\n",
    "\n",
    "### Aim : \n",
    "1. Use the attached file and run SVM, Decision tree, Random Forest and any one boosting algorithm.\n",
    "\n",
    "2. Find out the different tunable parameters for each algorithms mentioned above.\n",
    "\n",
    "3. Apply gridsearchCV and randomizedsearchCV for all the above classification algorithms and get the best parameter"
   ]
  },
  {
   "cell_type": "markdown",
   "id": "3d63fa15",
   "metadata": {},
   "source": [
    "### Algorithm : \n",
    "\n",
    "1. **Data Loading, preprocessing, splitting**\n",
    "\n",
    "2. **Algorithm Selection and Parameter Exploration:**\n",
    "   - Run the algorithms, Support Vector Machine (SVM), Decision Tree, Random Forest, AdaBoost and find the accuracies. \n",
    "   - Identify the tunable parameters for each selected algorithm.\n",
    "\n",
    "3. **GridSearchCV:**\n",
    "   - For each algorithm:\n",
    "     - Define a parameter grid that includes various values for the tunable parameters identified in step 2.\n",
    "     - Initialize a GridSearchCV object for the algorithm with the defined parameter grid and cross-validation (CV) setting (e.g., 5-fold CV).\n",
    "     - Fit the GridSearchCV object to the training data to search for the best combination of parameters.\n",
    "     - Retrieve and record the best parameters found for each algorithm.\n",
    "\n",
    "4. **RandomizedSearchCV:**\n",
    "   - For each algorithm:\n",
    "     - Define a parameter distribution that includes ranges or distributions for the tunable parameters identified in step 2.\n",
    "     - Initialize a RandomizedSearchCV object for the algorithm with the defined parameter distribution, cross-validation (CV) setting (e.g., 5-fold CV), and the number of iterations (e.g., 10).\n",
    "     - Fit the RandomizedSearchCV object to the training data to randomly search for the best combination of parameters.\n",
    "     - Retrieve and record the best parameters found for each algorithm."
   ]
  },
  {
   "cell_type": "markdown",
   "id": "d88cfc69",
   "metadata": {},
   "source": [
    "### Code and Output : "
   ]
  },
  {
   "cell_type": "code",
   "execution_count": 1,
   "id": "fe1b0392",
   "metadata": {},
   "outputs": [
    {
     "name": "stderr",
     "output_type": "stream",
     "text": [
      "C:\\Users\\TEJU\\anaconda3\\lib\\site-packages\\scipy\\__init__.py:146: UserWarning: A NumPy version >=1.16.5 and <1.23.0 is required for this version of SciPy (detected version 1.26.4\n",
      "  warnings.warn(f\"A NumPy version >={np_minversion} and <{np_maxversion}\"\n"
     ]
    }
   ],
   "source": [
    "import pandas as pd\n",
    "import numpy as np\n",
    "import seaborn as sns\n",
    "import matplotlib.pyplot as plt"
   ]
  },
  {
   "cell_type": "code",
   "execution_count": 2,
   "id": "d1e4721e",
   "metadata": {},
   "outputs": [],
   "source": [
    "df=pd.read_csv(r\"C:\\Users\\TEJU\\Downloads\\Telco-Customer-Churn (1).csv\")"
   ]
  },
  {
   "cell_type": "code",
   "execution_count": 3,
   "id": "10eeb063",
   "metadata": {},
   "outputs": [
    {
     "data": {
      "text/html": [
       "<div>\n",
       "<style scoped>\n",
       "    .dataframe tbody tr th:only-of-type {\n",
       "        vertical-align: middle;\n",
       "    }\n",
       "\n",
       "    .dataframe tbody tr th {\n",
       "        vertical-align: top;\n",
       "    }\n",
       "\n",
       "    .dataframe thead th {\n",
       "        text-align: right;\n",
       "    }\n",
       "</style>\n",
       "<table border=\"1\" class=\"dataframe\">\n",
       "  <thead>\n",
       "    <tr style=\"text-align: right;\">\n",
       "      <th></th>\n",
       "      <th>customerID</th>\n",
       "      <th>gender</th>\n",
       "      <th>SeniorCitizen</th>\n",
       "      <th>Partner</th>\n",
       "      <th>Dependents</th>\n",
       "      <th>tenure</th>\n",
       "      <th>PhoneService</th>\n",
       "      <th>MultipleLines</th>\n",
       "      <th>InternetService</th>\n",
       "      <th>OnlineSecurity</th>\n",
       "      <th>...</th>\n",
       "      <th>DeviceProtection</th>\n",
       "      <th>TechSupport</th>\n",
       "      <th>StreamingTV</th>\n",
       "      <th>StreamingMovies</th>\n",
       "      <th>Contract</th>\n",
       "      <th>PaperlessBilling</th>\n",
       "      <th>PaymentMethod</th>\n",
       "      <th>MonthlyCharges</th>\n",
       "      <th>TotalCharges</th>\n",
       "      <th>Churn</th>\n",
       "    </tr>\n",
       "  </thead>\n",
       "  <tbody>\n",
       "    <tr>\n",
       "      <th>0</th>\n",
       "      <td>7590-VHVEG</td>\n",
       "      <td>Female</td>\n",
       "      <td>0</td>\n",
       "      <td>Yes</td>\n",
       "      <td>No</td>\n",
       "      <td>1</td>\n",
       "      <td>No</td>\n",
       "      <td>No phone service</td>\n",
       "      <td>DSL</td>\n",
       "      <td>No</td>\n",
       "      <td>...</td>\n",
       "      <td>No</td>\n",
       "      <td>No</td>\n",
       "      <td>No</td>\n",
       "      <td>No</td>\n",
       "      <td>Month-to-month</td>\n",
       "      <td>Yes</td>\n",
       "      <td>Electronic check</td>\n",
       "      <td>29.85</td>\n",
       "      <td>29.85</td>\n",
       "      <td>No</td>\n",
       "    </tr>\n",
       "    <tr>\n",
       "      <th>1</th>\n",
       "      <td>5575-GNVDE</td>\n",
       "      <td>Male</td>\n",
       "      <td>0</td>\n",
       "      <td>No</td>\n",
       "      <td>No</td>\n",
       "      <td>34</td>\n",
       "      <td>Yes</td>\n",
       "      <td>No</td>\n",
       "      <td>DSL</td>\n",
       "      <td>Yes</td>\n",
       "      <td>...</td>\n",
       "      <td>Yes</td>\n",
       "      <td>No</td>\n",
       "      <td>No</td>\n",
       "      <td>No</td>\n",
       "      <td>One year</td>\n",
       "      <td>No</td>\n",
       "      <td>Mailed check</td>\n",
       "      <td>56.95</td>\n",
       "      <td>1889.5</td>\n",
       "      <td>No</td>\n",
       "    </tr>\n",
       "    <tr>\n",
       "      <th>2</th>\n",
       "      <td>3668-QPYBK</td>\n",
       "      <td>Male</td>\n",
       "      <td>0</td>\n",
       "      <td>No</td>\n",
       "      <td>No</td>\n",
       "      <td>2</td>\n",
       "      <td>Yes</td>\n",
       "      <td>No</td>\n",
       "      <td>DSL</td>\n",
       "      <td>Yes</td>\n",
       "      <td>...</td>\n",
       "      <td>No</td>\n",
       "      <td>No</td>\n",
       "      <td>No</td>\n",
       "      <td>No</td>\n",
       "      <td>Month-to-month</td>\n",
       "      <td>Yes</td>\n",
       "      <td>Mailed check</td>\n",
       "      <td>53.85</td>\n",
       "      <td>108.15</td>\n",
       "      <td>Yes</td>\n",
       "    </tr>\n",
       "    <tr>\n",
       "      <th>3</th>\n",
       "      <td>7795-CFOCW</td>\n",
       "      <td>Male</td>\n",
       "      <td>0</td>\n",
       "      <td>No</td>\n",
       "      <td>No</td>\n",
       "      <td>45</td>\n",
       "      <td>No</td>\n",
       "      <td>No phone service</td>\n",
       "      <td>DSL</td>\n",
       "      <td>Yes</td>\n",
       "      <td>...</td>\n",
       "      <td>Yes</td>\n",
       "      <td>Yes</td>\n",
       "      <td>No</td>\n",
       "      <td>No</td>\n",
       "      <td>One year</td>\n",
       "      <td>No</td>\n",
       "      <td>Bank transfer (automatic)</td>\n",
       "      <td>42.30</td>\n",
       "      <td>1840.75</td>\n",
       "      <td>No</td>\n",
       "    </tr>\n",
       "    <tr>\n",
       "      <th>4</th>\n",
       "      <td>9237-HQITU</td>\n",
       "      <td>Female</td>\n",
       "      <td>0</td>\n",
       "      <td>No</td>\n",
       "      <td>No</td>\n",
       "      <td>2</td>\n",
       "      <td>Yes</td>\n",
       "      <td>No</td>\n",
       "      <td>Fiber optic</td>\n",
       "      <td>No</td>\n",
       "      <td>...</td>\n",
       "      <td>No</td>\n",
       "      <td>No</td>\n",
       "      <td>No</td>\n",
       "      <td>No</td>\n",
       "      <td>Month-to-month</td>\n",
       "      <td>Yes</td>\n",
       "      <td>Electronic check</td>\n",
       "      <td>70.70</td>\n",
       "      <td>151.65</td>\n",
       "      <td>Yes</td>\n",
       "    </tr>\n",
       "  </tbody>\n",
       "</table>\n",
       "<p>5 rows × 21 columns</p>\n",
       "</div>"
      ],
      "text/plain": [
       "   customerID  gender  SeniorCitizen Partner Dependents  tenure PhoneService  \\\n",
       "0  7590-VHVEG  Female              0     Yes         No       1           No   \n",
       "1  5575-GNVDE    Male              0      No         No      34          Yes   \n",
       "2  3668-QPYBK    Male              0      No         No       2          Yes   \n",
       "3  7795-CFOCW    Male              0      No         No      45           No   \n",
       "4  9237-HQITU  Female              0      No         No       2          Yes   \n",
       "\n",
       "      MultipleLines InternetService OnlineSecurity  ... DeviceProtection  \\\n",
       "0  No phone service             DSL             No  ...               No   \n",
       "1                No             DSL            Yes  ...              Yes   \n",
       "2                No             DSL            Yes  ...               No   \n",
       "3  No phone service             DSL            Yes  ...              Yes   \n",
       "4                No     Fiber optic             No  ...               No   \n",
       "\n",
       "  TechSupport StreamingTV StreamingMovies        Contract PaperlessBilling  \\\n",
       "0          No          No              No  Month-to-month              Yes   \n",
       "1          No          No              No        One year               No   \n",
       "2          No          No              No  Month-to-month              Yes   \n",
       "3         Yes          No              No        One year               No   \n",
       "4          No          No              No  Month-to-month              Yes   \n",
       "\n",
       "               PaymentMethod MonthlyCharges  TotalCharges Churn  \n",
       "0           Electronic check          29.85         29.85    No  \n",
       "1               Mailed check          56.95        1889.5    No  \n",
       "2               Mailed check          53.85        108.15   Yes  \n",
       "3  Bank transfer (automatic)          42.30       1840.75    No  \n",
       "4           Electronic check          70.70        151.65   Yes  \n",
       "\n",
       "[5 rows x 21 columns]"
      ]
     },
     "execution_count": 3,
     "metadata": {},
     "output_type": "execute_result"
    }
   ],
   "source": [
    "df.head()"
   ]
  },
  {
   "cell_type": "code",
   "execution_count": 4,
   "id": "149f4c14",
   "metadata": {},
   "outputs": [
    {
     "name": "stdout",
     "output_type": "stream",
     "text": [
      "<class 'pandas.core.frame.DataFrame'>\n",
      "RangeIndex: 7043 entries, 0 to 7042\n",
      "Data columns (total 21 columns):\n",
      " #   Column            Non-Null Count  Dtype  \n",
      "---  ------            --------------  -----  \n",
      " 0   customerID        7043 non-null   object \n",
      " 1   gender            7043 non-null   object \n",
      " 2   SeniorCitizen     7043 non-null   int64  \n",
      " 3   Partner           7043 non-null   object \n",
      " 4   Dependents        7043 non-null   object \n",
      " 5   tenure            7043 non-null   int64  \n",
      " 6   PhoneService      7043 non-null   object \n",
      " 7   MultipleLines     7043 non-null   object \n",
      " 8   InternetService   7043 non-null   object \n",
      " 9   OnlineSecurity    7043 non-null   object \n",
      " 10  OnlineBackup      7043 non-null   object \n",
      " 11  DeviceProtection  7043 non-null   object \n",
      " 12  TechSupport       7043 non-null   object \n",
      " 13  StreamingTV       7043 non-null   object \n",
      " 14  StreamingMovies   7043 non-null   object \n",
      " 15  Contract          7043 non-null   object \n",
      " 16  PaperlessBilling  7043 non-null   object \n",
      " 17  PaymentMethod     7043 non-null   object \n",
      " 18  MonthlyCharges    7043 non-null   float64\n",
      " 19  TotalCharges      7043 non-null   object \n",
      " 20  Churn             7043 non-null   object \n",
      "dtypes: float64(1), int64(2), object(18)\n",
      "memory usage: 1.1+ MB\n"
     ]
    }
   ],
   "source": [
    "df.info()"
   ]
  },
  {
   "cell_type": "code",
   "execution_count": 5,
   "id": "12a41ab6",
   "metadata": {},
   "outputs": [],
   "source": [
    "df['TotalCharges'].replace(\" \",0,inplace=True)\n",
    "df['TotalCharges']=df['TotalCharges'].astype('float64')"
   ]
  },
  {
   "cell_type": "code",
   "execution_count": 6,
   "id": "cd6de18f",
   "metadata": {},
   "outputs": [],
   "source": [
    "df=df.drop('customerID',axis=1)"
   ]
  },
  {
   "cell_type": "code",
   "execution_count": 7,
   "id": "b02fa89d",
   "metadata": {},
   "outputs": [],
   "source": [
    "df['SeniorCitizen']=df['SeniorCitizen'].map({0:'No',1:'Yes'})"
   ]
  },
  {
   "cell_type": "code",
   "execution_count": 8,
   "id": "98c7a3f1",
   "metadata": {},
   "outputs": [],
   "source": [
    "num_features=df.select_dtypes(include='number')\n",
    "cat_features=df.select_dtypes(exclude='number')"
   ]
  },
  {
   "cell_type": "code",
   "execution_count": 9,
   "id": "211ac2a0",
   "metadata": {},
   "outputs": [],
   "source": [
    "cat_features_encoded = pd.get_dummies(data=cat_features, dtype=int)\n",
    "churn_corr = cat_features_encoded.corr()['Churn_Yes'].drop(['Churn_Yes', 'Churn_No']).sort_values()"
   ]
  },
  {
   "cell_type": "code",
   "execution_count": 10,
   "id": "7ab15e34",
   "metadata": {},
   "outputs": [],
   "source": [
    "df_final=pd.get_dummies(data=df,drop_first=True,dtype=int)"
   ]
  },
  {
   "cell_type": "code",
   "execution_count": 11,
   "id": "3a937edd",
   "metadata": {},
   "outputs": [],
   "source": [
    "df_final = df_final.drop(['gender_Male', 'PhoneService_Yes', \n",
    "                 'MultipleLines_No phone service',\n",
    "                 'MultipleLines_Yes'], axis=1)"
   ]
  },
  {
   "cell_type": "code",
   "execution_count": 12,
   "id": "38b5249f",
   "metadata": {},
   "outputs": [
    {
     "data": {
      "text/html": [
       "<div>\n",
       "<style scoped>\n",
       "    .dataframe tbody tr th:only-of-type {\n",
       "        vertical-align: middle;\n",
       "    }\n",
       "\n",
       "    .dataframe tbody tr th {\n",
       "        vertical-align: top;\n",
       "    }\n",
       "\n",
       "    .dataframe thead th {\n",
       "        text-align: right;\n",
       "    }\n",
       "</style>\n",
       "<table border=\"1\" class=\"dataframe\">\n",
       "  <thead>\n",
       "    <tr style=\"text-align: right;\">\n",
       "      <th></th>\n",
       "      <th>tenure</th>\n",
       "      <th>MonthlyCharges</th>\n",
       "      <th>TotalCharges</th>\n",
       "      <th>SeniorCitizen_Yes</th>\n",
       "      <th>Partner_Yes</th>\n",
       "      <th>Dependents_Yes</th>\n",
       "      <th>InternetService_Fiber optic</th>\n",
       "      <th>InternetService_No</th>\n",
       "      <th>OnlineSecurity_No internet service</th>\n",
       "      <th>OnlineSecurity_Yes</th>\n",
       "      <th>...</th>\n",
       "      <th>StreamingTV_Yes</th>\n",
       "      <th>StreamingMovies_No internet service</th>\n",
       "      <th>StreamingMovies_Yes</th>\n",
       "      <th>Contract_One year</th>\n",
       "      <th>Contract_Two year</th>\n",
       "      <th>PaperlessBilling_Yes</th>\n",
       "      <th>PaymentMethod_Credit card (automatic)</th>\n",
       "      <th>PaymentMethod_Electronic check</th>\n",
       "      <th>PaymentMethod_Mailed check</th>\n",
       "      <th>Churn_Yes</th>\n",
       "    </tr>\n",
       "  </thead>\n",
       "  <tbody>\n",
       "    <tr>\n",
       "      <th>0</th>\n",
       "      <td>1</td>\n",
       "      <td>29.85</td>\n",
       "      <td>29.85</td>\n",
       "      <td>0</td>\n",
       "      <td>1</td>\n",
       "      <td>0</td>\n",
       "      <td>0</td>\n",
       "      <td>0</td>\n",
       "      <td>0</td>\n",
       "      <td>0</td>\n",
       "      <td>...</td>\n",
       "      <td>0</td>\n",
       "      <td>0</td>\n",
       "      <td>0</td>\n",
       "      <td>0</td>\n",
       "      <td>0</td>\n",
       "      <td>1</td>\n",
       "      <td>0</td>\n",
       "      <td>1</td>\n",
       "      <td>0</td>\n",
       "      <td>0</td>\n",
       "    </tr>\n",
       "    <tr>\n",
       "      <th>1</th>\n",
       "      <td>34</td>\n",
       "      <td>56.95</td>\n",
       "      <td>1889.50</td>\n",
       "      <td>0</td>\n",
       "      <td>0</td>\n",
       "      <td>0</td>\n",
       "      <td>0</td>\n",
       "      <td>0</td>\n",
       "      <td>0</td>\n",
       "      <td>1</td>\n",
       "      <td>...</td>\n",
       "      <td>0</td>\n",
       "      <td>0</td>\n",
       "      <td>0</td>\n",
       "      <td>1</td>\n",
       "      <td>0</td>\n",
       "      <td>0</td>\n",
       "      <td>0</td>\n",
       "      <td>0</td>\n",
       "      <td>1</td>\n",
       "      <td>0</td>\n",
       "    </tr>\n",
       "    <tr>\n",
       "      <th>2</th>\n",
       "      <td>2</td>\n",
       "      <td>53.85</td>\n",
       "      <td>108.15</td>\n",
       "      <td>0</td>\n",
       "      <td>0</td>\n",
       "      <td>0</td>\n",
       "      <td>0</td>\n",
       "      <td>0</td>\n",
       "      <td>0</td>\n",
       "      <td>1</td>\n",
       "      <td>...</td>\n",
       "      <td>0</td>\n",
       "      <td>0</td>\n",
       "      <td>0</td>\n",
       "      <td>0</td>\n",
       "      <td>0</td>\n",
       "      <td>1</td>\n",
       "      <td>0</td>\n",
       "      <td>0</td>\n",
       "      <td>1</td>\n",
       "      <td>1</td>\n",
       "    </tr>\n",
       "    <tr>\n",
       "      <th>3</th>\n",
       "      <td>45</td>\n",
       "      <td>42.30</td>\n",
       "      <td>1840.75</td>\n",
       "      <td>0</td>\n",
       "      <td>0</td>\n",
       "      <td>0</td>\n",
       "      <td>0</td>\n",
       "      <td>0</td>\n",
       "      <td>0</td>\n",
       "      <td>1</td>\n",
       "      <td>...</td>\n",
       "      <td>0</td>\n",
       "      <td>0</td>\n",
       "      <td>0</td>\n",
       "      <td>1</td>\n",
       "      <td>0</td>\n",
       "      <td>0</td>\n",
       "      <td>0</td>\n",
       "      <td>0</td>\n",
       "      <td>0</td>\n",
       "      <td>0</td>\n",
       "    </tr>\n",
       "    <tr>\n",
       "      <th>4</th>\n",
       "      <td>2</td>\n",
       "      <td>70.70</td>\n",
       "      <td>151.65</td>\n",
       "      <td>0</td>\n",
       "      <td>0</td>\n",
       "      <td>0</td>\n",
       "      <td>1</td>\n",
       "      <td>0</td>\n",
       "      <td>0</td>\n",
       "      <td>0</td>\n",
       "      <td>...</td>\n",
       "      <td>0</td>\n",
       "      <td>0</td>\n",
       "      <td>0</td>\n",
       "      <td>0</td>\n",
       "      <td>0</td>\n",
       "      <td>1</td>\n",
       "      <td>0</td>\n",
       "      <td>1</td>\n",
       "      <td>0</td>\n",
       "      <td>1</td>\n",
       "    </tr>\n",
       "  </tbody>\n",
       "</table>\n",
       "<p>5 rows × 27 columns</p>\n",
       "</div>"
      ],
      "text/plain": [
       "   tenure  MonthlyCharges  TotalCharges  SeniorCitizen_Yes  Partner_Yes  \\\n",
       "0       1           29.85         29.85                  0            1   \n",
       "1      34           56.95       1889.50                  0            0   \n",
       "2       2           53.85        108.15                  0            0   \n",
       "3      45           42.30       1840.75                  0            0   \n",
       "4       2           70.70        151.65                  0            0   \n",
       "\n",
       "   Dependents_Yes  InternetService_Fiber optic  InternetService_No  \\\n",
       "0               0                            0                   0   \n",
       "1               0                            0                   0   \n",
       "2               0                            0                   0   \n",
       "3               0                            0                   0   \n",
       "4               0                            1                   0   \n",
       "\n",
       "   OnlineSecurity_No internet service  OnlineSecurity_Yes  ...  \\\n",
       "0                                   0                   0  ...   \n",
       "1                                   0                   1  ...   \n",
       "2                                   0                   1  ...   \n",
       "3                                   0                   1  ...   \n",
       "4                                   0                   0  ...   \n",
       "\n",
       "   StreamingTV_Yes  StreamingMovies_No internet service  StreamingMovies_Yes  \\\n",
       "0                0                                    0                    0   \n",
       "1                0                                    0                    0   \n",
       "2                0                                    0                    0   \n",
       "3                0                                    0                    0   \n",
       "4                0                                    0                    0   \n",
       "\n",
       "   Contract_One year  Contract_Two year  PaperlessBilling_Yes  \\\n",
       "0                  0                  0                     1   \n",
       "1                  1                  0                     0   \n",
       "2                  0                  0                     1   \n",
       "3                  1                  0                     0   \n",
       "4                  0                  0                     1   \n",
       "\n",
       "   PaymentMethod_Credit card (automatic)  PaymentMethod_Electronic check  \\\n",
       "0                                      0                               1   \n",
       "1                                      0                               0   \n",
       "2                                      0                               0   \n",
       "3                                      0                               0   \n",
       "4                                      0                               1   \n",
       "\n",
       "   PaymentMethod_Mailed check  Churn_Yes  \n",
       "0                           0          0  \n",
       "1                           1          0  \n",
       "2                           1          1  \n",
       "3                           0          0  \n",
       "4                           0          1  \n",
       "\n",
       "[5 rows x 27 columns]"
      ]
     },
     "execution_count": 12,
     "metadata": {},
     "output_type": "execute_result"
    }
   ],
   "source": [
    "df_final.head()"
   ]
  },
  {
   "cell_type": "code",
   "execution_count": 13,
   "id": "86198ceb",
   "metadata": {},
   "outputs": [
    {
     "data": {
      "text/plain": [
       "0    5174\n",
       "1    1869\n",
       "Name: Churn_Yes, dtype: int64"
      ]
     },
     "execution_count": 13,
     "metadata": {},
     "output_type": "execute_result"
    }
   ],
   "source": [
    "df_final['Churn_Yes'].value_counts()"
   ]
  },
  {
   "cell_type": "code",
   "execution_count": 14,
   "id": "e25afac7",
   "metadata": {},
   "outputs": [],
   "source": [
    "X=df_final.drop('Churn_Yes',axis=1)\n",
    "y=df_final['Churn_Yes']"
   ]
  },
  {
   "cell_type": "code",
   "execution_count": 19,
   "id": "71ce6afc",
   "metadata": {},
   "outputs": [],
   "source": [
    "from sklearn.model_selection import train_test_split\n",
    "X_train, X_test, y_train, y_test = train_test_split(X, y, test_size=0.3, random_state=1337)"
   ]
  },
  {
   "cell_type": "code",
   "execution_count": 20,
   "id": "f4b867a1",
   "metadata": {},
   "outputs": [],
   "source": [
    "from sklearn.preprocessing import StandardScaler\n",
    "scaler = StandardScaler()\n",
    "X_train = scaler.fit_transform(X_train)\n",
    "X_test = scaler.transform(X_test)"
   ]
  },
  {
   "cell_type": "markdown",
   "id": "d7f4b26f",
   "metadata": {},
   "source": [
    "## SVM : "
   ]
  },
  {
   "cell_type": "code",
   "execution_count": 21,
   "id": "10276471",
   "metadata": {},
   "outputs": [
    {
     "name": "stdout",
     "output_type": "stream",
     "text": [
      "Accuracy: 0.7823000473260767\n"
     ]
    }
   ],
   "source": [
    "from sklearn.svm import SVC\n",
    "svcModel = SVC()\n",
    "svcModel.fit(X_train,y_train)\n",
    "accuracy = svcModel.score(X_test, y_test)\n",
    "print(\"Accuracy of SVM:\", accuracy)"
   ]
  },
  {
   "cell_type": "markdown",
   "id": "3d6dba61",
   "metadata": {},
   "source": [
    "## Decision Tree : "
   ]
  },
  {
   "cell_type": "code",
   "execution_count": 22,
   "id": "4c87c297",
   "metadata": {},
   "outputs": [
    {
     "name": "stdout",
     "output_type": "stream",
     "text": [
      "Accuracy of decision tree: 0.7221959299574066\n"
     ]
    }
   ],
   "source": [
    "from sklearn.tree import DecisionTreeClassifier\n",
    "treeModel=DecisionTreeClassifier()\n",
    "treeModel.fit(X_train,y_train)\n",
    "accuracy=treeModel.score(X_test,y_test)\n",
    "print(\"Accuracy of decision tree:\",accuracy)"
   ]
  },
  {
   "cell_type": "markdown",
   "id": "313656ec",
   "metadata": {},
   "source": [
    "## Random Forest :"
   ]
  },
  {
   "cell_type": "code",
   "execution_count": 23,
   "id": "50b8373a",
   "metadata": {},
   "outputs": [
    {
     "name": "stdout",
     "output_type": "stream",
     "text": [
      "Accuracy of random forest: 0.7799337434926644\n"
     ]
    }
   ],
   "source": [
    "from sklearn.ensemble import RandomForestClassifier\n",
    "rfcModel=RandomForestClassifier()\n",
    "rfcModel.fit(X_train,y_train)\n",
    "accuracy=rfcModel.score(X_test,y_test)\n",
    "print(\"Accuracy of random forest:\",accuracy)"
   ]
  },
  {
   "cell_type": "markdown",
   "id": "7dd44551",
   "metadata": {},
   "source": [
    "## Boosting algorithm - Adaboost Classifier : "
   ]
  },
  {
   "cell_type": "code",
   "execution_count": 26,
   "id": "22d5537f",
   "metadata": {},
   "outputs": [
    {
     "name": "stderr",
     "output_type": "stream",
     "text": [
      "C:\\Users\\TEJU\\anaconda3\\lib\\site-packages\\sklearn\\ensemble\\_weight_boosting.py:519: FutureWarning: The SAMME.R algorithm (the default) is deprecated and will be removed in 1.6. Use the SAMME algorithm to circumvent this warning.\n",
      "  warnings.warn(\n"
     ]
    },
    {
     "name": "stdout",
     "output_type": "stream",
     "text": [
      "Accuracy of adaboost: 0.7974443918599148\n"
     ]
    }
   ],
   "source": [
    "from sklearn.ensemble import AdaBoostClassifier\n",
    "adbModel=AdaBoostClassifier()\n",
    "adbModel.fit(X_train,y_train)\n",
    "accuracy=adbModel.score(X_test,y_test)\n",
    "print(\"Accuracy of adaboost:\",accuracy)"
   ]
  },
  {
   "cell_type": "markdown",
   "id": "479184ad",
   "metadata": {},
   "source": [
    "## Tunable parameters of each algorithm : \n",
    "\n",
    "1. Support Vector Machine (SVM):\n",
    "   - `C`: Penalty parameter of the error term.\n",
    "   - `kernel`: Specifies the kernel type to be used in the algorithm (linear, polynomial, radial basis function (RBF), sigmoid).\n",
    "   - `gamma`: Kernel coefficient for 'rbf', 'poly', and 'sigmoid'.\n",
    "   - `degree`: Degree of the polynomial kernel function ('poly').\n",
    "   - `coef0`: Independent term in the polynomial kernel function ('poly' and 'sigmoid').\n",
    "\n",
    "2. Decision Trees:\n",
    "   - `max_depth`: Maximum depth of the tree.\n",
    "   - `min_samples_split`: Minimum number of samples required to split an internal node.\n",
    "   - `min_samples_leaf`: Minimum number of samples required to be at a leaf node.\n",
    "   - `max_features`: Number of features to consider when looking for the best split.\n",
    "   - `criterion`: Function to measure the quality of a split (e.g., 'gini' for Gini impurity or 'entropy' for information gain).\n",
    "\n",
    "3. Random Forest:\n",
    "   - All parameters of Decision Trees.\n",
    "   - `n_estimators`: The number of trees in the forest.\n",
    "   - `bootstrap`: Whether bootstrap samples are used when building trees.\n",
    "   - `max_samples`: The number of samples to draw from X to train each base estimator.\n",
    "\n",
    "4. AdaBoost (Adaptive Boosting):\n",
    "   - `base_estimator`: The base estimator from which the boosted ensemble is built.\n",
    "   - `n_estimators`: The maximum number of estimators at which boosting is terminated.\n",
    "   - `learning_rate`: Weight applied to each classifier at each boosting iteration.\n",
    "   - `algorithm`: The algorithm used to update weights ('SAMME' or 'SAMME.R')."
   ]
  },
  {
   "cell_type": "markdown",
   "id": "30e8e97f",
   "metadata": {},
   "source": [
    "# Hyper parameter tuning : "
   ]
  },
  {
   "cell_type": "code",
   "execution_count": 28,
   "id": "7f416d86",
   "metadata": {},
   "outputs": [],
   "source": [
    "from sklearn.model_selection import GridSearchCV\n",
    "from sklearn.model_selection import RandomizedSearchCV"
   ]
  },
  {
   "cell_type": "markdown",
   "id": "30bf667b",
   "metadata": {},
   "source": [
    "## SVM : "
   ]
  },
  {
   "cell_type": "code",
   "execution_count": 30,
   "id": "b17e1c7a",
   "metadata": {},
   "outputs": [
    {
     "name": "stdout",
     "output_type": "stream",
     "text": [
      "Best Parameters according to GridSearchCVfor SVC: {'C': 1, 'gamma': 'scale', 'kernel': 'rbf'}\n"
     ]
    }
   ],
   "source": [
    "# GridSearchCV : \n",
    "\n",
    "param_grid_svc = {'C': [0.1, 1, 10], 'kernel': ['linear', 'rbf'], 'gamma': ['scale', 'auto']}\n",
    "grid_search_svc = GridSearchCV(SVC(), param_grid_svc, cv=5)\n",
    "grid_search_svc.fit(X_train, y_train)\n",
    "best_params_svc = grid_search_svc.best_params_\n",
    "print(\"Best Parameters according to GridSearchCV for SVC:\", best_params_svc)"
   ]
  },
  {
   "cell_type": "code",
   "execution_count": 31,
   "id": "4f57906f",
   "metadata": {},
   "outputs": [
    {
     "name": "stdout",
     "output_type": "stream",
     "text": [
      "Best Parameters to RandomisedSearchCV for SVC : {'C': 0.9555803888742154, 'gamma': 'scale', 'kernel': 'rbf'}\n"
     ]
    }
   ],
   "source": [
    "# RandomisedSearchCV : \n",
    "\n",
    "from scipy.stats import uniform\n",
    "param_dist_svc = {'C': uniform(loc=0, scale=10), 'kernel': ['linear', 'rbf'], 'gamma': ['scale', 'auto']}\n",
    "random_search_svc = RandomizedSearchCV(SVC(), param_dist_svc, cv=5, n_iter=10)\n",
    "random_search_svc.fit(X_train, y_train)\n",
    "best_params_rand_svc = random_search_svc.best_params_\n",
    "print(\"Best Parameters to RandomisedSearchCV for SVC :\", best_params_rand_svc)"
   ]
  },
  {
   "cell_type": "markdown",
   "id": "b5adb0db",
   "metadata": {},
   "source": [
    "## Decision Trees : "
   ]
  },
  {
   "cell_type": "code",
   "execution_count": 32,
   "id": "fa31b774",
   "metadata": {},
   "outputs": [
    {
     "name": "stdout",
     "output_type": "stream",
     "text": [
      "Best Parameters for Decision Tree:(grid) {'criterion': 'entropy', 'max_depth': 10, 'min_samples_leaf': 2, 'min_samples_split': 5, 'splitter': 'random'}\n"
     ]
    }
   ],
   "source": [
    "#GridSearchCV : \n",
    "\n",
    "param_grid_dt = {'criterion': ['gini', 'entropy'], 'splitter': ['best', 'random'], \n",
    "                 'max_depth': [None, 10, 20], 'min_samples_split': [2, 5, 10], \n",
    "                 'min_samples_leaf': [1, 2, 4]}\n",
    "grid_search_dt = GridSearchCV(DecisionTreeClassifier(), param_grid_dt, cv=5)\n",
    "grid_search_dt.fit(X_train, y_train)\n",
    "best_params_dt = grid_search_dt.best_params_\n",
    "print(\"Best Parameters for Decision Tree:(grid)\", best_params_dt)"
   ]
  },
  {
   "cell_type": "code",
   "execution_count": 33,
   "id": "39d0d479",
   "metadata": {},
   "outputs": [
    {
     "name": "stdout",
     "output_type": "stream",
     "text": [
      "Best Parameters for Decision Tree (RandomizedSearchCV): {'splitter': 'best', 'min_samples_split': 2, 'min_samples_leaf': 4, 'max_depth': 10, 'criterion': 'entropy'}\n"
     ]
    }
   ],
   "source": [
    "#RandomizedSearchCV : \n",
    "\n",
    "param_dist_dt = {'criterion': ['gini', 'entropy'], 'splitter': ['best', 'random'], \n",
    "                 'max_depth': [None, 10, 20], 'min_samples_split': [2, 5, 10],\n",
    "                   'min_samples_leaf': [1, 2, 4]}\n",
    "random_search_dt = RandomizedSearchCV(DecisionTreeClassifier(), param_dist_dt, cv=5, n_iter=10)\n",
    "random_search_dt.fit(X_train, y_train)\n",
    "best_params_rand_dt = random_search_dt.best_params_\n",
    "print(\"Best Parameters for Decision Tree (RandomizedSearchCV):\", best_params_rand_dt)"
   ]
  },
  {
   "cell_type": "markdown",
   "id": "85cc82b3",
   "metadata": {},
   "source": [
    "## Random Forest : "
   ]
  },
  {
   "cell_type": "code",
   "execution_count": 40,
   "id": "5d9d7f6c",
   "metadata": {},
   "outputs": [
    {
     "name": "stdout",
     "output_type": "stream",
     "text": [
      "Best Parameters for Random Forest:(grid) {'criterion': 'entropy', 'max_depth': 10, 'min_samples_leaf': 2, 'min_samples_split': 2, 'n_estimators': 100}\n"
     ]
    }
   ],
   "source": [
    "#GridSearchCV : \n",
    "\n",
    "param_grid_rf = {'n_estimators': [100], 'criterion': ['gini', 'entropy'],\n",
    "                  'max_depth': [None, 10, 20], 'min_samples_split': [2, 10], \n",
    "                  'min_samples_leaf': [1,2]}\n",
    "grid_search_rf = GridSearchCV(RandomForestClassifier(), param_grid_rf, cv=2)\n",
    "grid_search_rf.fit(X_train, y_train)\n",
    "best_params_rf = grid_search_rf.best_params_\n",
    "print(\"Best Parameters for Random Forest:(grid)\", best_params_rf)"
   ]
  },
  {
   "cell_type": "code",
   "execution_count": 42,
   "id": "c9cd1d57",
   "metadata": {},
   "outputs": [
    {
     "name": "stderr",
     "output_type": "stream",
     "text": [
      "C:\\Users\\TEJU\\anaconda3\\lib\\site-packages\\sklearn\\model_selection\\_search.py:318: UserWarning: The total space of parameters 4 is smaller than n_iter=5. Running 4 iterations. For exhaustive searches, use GridSearchCV.\n",
      "  warnings.warn(\n",
      "C:\\Users\\TEJU\\anaconda3\\lib\\site-packages\\sklearn\\ensemble\\_weight_boosting.py:519: FutureWarning: The SAMME.R algorithm (the default) is deprecated and will be removed in 1.6. Use the SAMME algorithm to circumvent this warning.\n",
      "  warnings.warn(\n",
      "C:\\Users\\TEJU\\anaconda3\\lib\\site-packages\\sklearn\\ensemble\\_weight_boosting.py:519: FutureWarning: The SAMME.R algorithm (the default) is deprecated and will be removed in 1.6. Use the SAMME algorithm to circumvent this warning.\n",
      "  warnings.warn(\n",
      "C:\\Users\\TEJU\\anaconda3\\lib\\site-packages\\sklearn\\ensemble\\_weight_boosting.py:519: FutureWarning: The SAMME.R algorithm (the default) is deprecated and will be removed in 1.6. Use the SAMME algorithm to circumvent this warning.\n",
      "  warnings.warn(\n",
      "C:\\Users\\TEJU\\anaconda3\\lib\\site-packages\\sklearn\\ensemble\\_weight_boosting.py:519: FutureWarning: The SAMME.R algorithm (the default) is deprecated and will be removed in 1.6. Use the SAMME algorithm to circumvent this warning.\n",
      "  warnings.warn(\n",
      "C:\\Users\\TEJU\\anaconda3\\lib\\site-packages\\sklearn\\ensemble\\_weight_boosting.py:519: FutureWarning: The SAMME.R algorithm (the default) is deprecated and will be removed in 1.6. Use the SAMME algorithm to circumvent this warning.\n",
      "  warnings.warn(\n",
      "C:\\Users\\TEJU\\anaconda3\\lib\\site-packages\\sklearn\\ensemble\\_weight_boosting.py:519: FutureWarning: The SAMME.R algorithm (the default) is deprecated and will be removed in 1.6. Use the SAMME algorithm to circumvent this warning.\n",
      "  warnings.warn(\n",
      "C:\\Users\\TEJU\\anaconda3\\lib\\site-packages\\sklearn\\ensemble\\_weight_boosting.py:519: FutureWarning: The SAMME.R algorithm (the default) is deprecated and will be removed in 1.6. Use the SAMME algorithm to circumvent this warning.\n",
      "  warnings.warn(\n",
      "C:\\Users\\TEJU\\anaconda3\\lib\\site-packages\\sklearn\\ensemble\\_weight_boosting.py:519: FutureWarning: The SAMME.R algorithm (the default) is deprecated and will be removed in 1.6. Use the SAMME algorithm to circumvent this warning.\n",
      "  warnings.warn(\n",
      "C:\\Users\\TEJU\\anaconda3\\lib\\site-packages\\sklearn\\ensemble\\_weight_boosting.py:519: FutureWarning: The SAMME.R algorithm (the default) is deprecated and will be removed in 1.6. Use the SAMME algorithm to circumvent this warning.\n",
      "  warnings.warn(\n",
      "C:\\Users\\TEJU\\anaconda3\\lib\\site-packages\\sklearn\\ensemble\\_weight_boosting.py:519: FutureWarning: The SAMME.R algorithm (the default) is deprecated and will be removed in 1.6. Use the SAMME algorithm to circumvent this warning.\n",
      "  warnings.warn(\n",
      "C:\\Users\\TEJU\\anaconda3\\lib\\site-packages\\sklearn\\ensemble\\_weight_boosting.py:519: FutureWarning: The SAMME.R algorithm (the default) is deprecated and will be removed in 1.6. Use the SAMME algorithm to circumvent this warning.\n",
      "  warnings.warn(\n",
      "C:\\Users\\TEJU\\anaconda3\\lib\\site-packages\\sklearn\\ensemble\\_weight_boosting.py:519: FutureWarning: The SAMME.R algorithm (the default) is deprecated and will be removed in 1.6. Use the SAMME algorithm to circumvent this warning.\n",
      "  warnings.warn(\n",
      "C:\\Users\\TEJU\\anaconda3\\lib\\site-packages\\sklearn\\ensemble\\_weight_boosting.py:519: FutureWarning: The SAMME.R algorithm (the default) is deprecated and will be removed in 1.6. Use the SAMME algorithm to circumvent this warning.\n",
      "  warnings.warn(\n"
     ]
    },
    {
     "name": "stdout",
     "output_type": "stream",
     "text": [
      "Best Parameters for AdaBoost (RandomizedSearchCV): {'n_estimators': 100, 'learning_rate': 0.1}\n"
     ]
    }
   ],
   "source": [
    "#RandomizedSearchCV : \n",
    "\n",
    "param_dist_ada = {'n_estimators': [50, 100], 'learning_rate': [0.01, 0.1]}\n",
    "random_search_ada = RandomizedSearchCV(AdaBoostClassifier(), param_dist_ada, cv=3, n_iter=5)\n",
    "random_search_ada.fit(X_train, y_train)\n",
    "best_params_rand_ada = random_search_ada.best_params_\n",
    "print(\"Best Parameters for AdaBoost (RandomizedSearchCV):\", best_params_rand_ada)"
   ]
  },
  {
   "cell_type": "markdown",
   "id": "20e77778",
   "metadata": {},
   "source": [
    "## Adaboost : "
   ]
  },
  {
   "cell_type": "code",
   "execution_count": 43,
   "id": "e9d384d8",
   "metadata": {},
   "outputs": [
    {
     "name": "stderr",
     "output_type": "stream",
     "text": [
      "C:\\Users\\TEJU\\anaconda3\\lib\\site-packages\\sklearn\\ensemble\\_weight_boosting.py:519: FutureWarning: The SAMME.R algorithm (the default) is deprecated and will be removed in 1.6. Use the SAMME algorithm to circumvent this warning.\n",
      "  warnings.warn(\n",
      "C:\\Users\\TEJU\\anaconda3\\lib\\site-packages\\sklearn\\ensemble\\_weight_boosting.py:519: FutureWarning: The SAMME.R algorithm (the default) is deprecated and will be removed in 1.6. Use the SAMME algorithm to circumvent this warning.\n",
      "  warnings.warn(\n",
      "C:\\Users\\TEJU\\anaconda3\\lib\\site-packages\\sklearn\\ensemble\\_weight_boosting.py:519: FutureWarning: The SAMME.R algorithm (the default) is deprecated and will be removed in 1.6. Use the SAMME algorithm to circumvent this warning.\n",
      "  warnings.warn(\n",
      "C:\\Users\\TEJU\\anaconda3\\lib\\site-packages\\sklearn\\ensemble\\_weight_boosting.py:519: FutureWarning: The SAMME.R algorithm (the default) is deprecated and will be removed in 1.6. Use the SAMME algorithm to circumvent this warning.\n",
      "  warnings.warn(\n",
      "C:\\Users\\TEJU\\anaconda3\\lib\\site-packages\\sklearn\\ensemble\\_weight_boosting.py:519: FutureWarning: The SAMME.R algorithm (the default) is deprecated and will be removed in 1.6. Use the SAMME algorithm to circumvent this warning.\n",
      "  warnings.warn(\n",
      "C:\\Users\\TEJU\\anaconda3\\lib\\site-packages\\sklearn\\ensemble\\_weight_boosting.py:519: FutureWarning: The SAMME.R algorithm (the default) is deprecated and will be removed in 1.6. Use the SAMME algorithm to circumvent this warning.\n",
      "  warnings.warn(\n",
      "C:\\Users\\TEJU\\anaconda3\\lib\\site-packages\\sklearn\\ensemble\\_weight_boosting.py:519: FutureWarning: The SAMME.R algorithm (the default) is deprecated and will be removed in 1.6. Use the SAMME algorithm to circumvent this warning.\n",
      "  warnings.warn(\n",
      "C:\\Users\\TEJU\\anaconda3\\lib\\site-packages\\sklearn\\ensemble\\_weight_boosting.py:519: FutureWarning: The SAMME.R algorithm (the default) is deprecated and will be removed in 1.6. Use the SAMME algorithm to circumvent this warning.\n",
      "  warnings.warn(\n",
      "C:\\Users\\TEJU\\anaconda3\\lib\\site-packages\\sklearn\\ensemble\\_weight_boosting.py:519: FutureWarning: The SAMME.R algorithm (the default) is deprecated and will be removed in 1.6. Use the SAMME algorithm to circumvent this warning.\n",
      "  warnings.warn(\n"
     ]
    },
    {
     "name": "stdout",
     "output_type": "stream",
     "text": [
      "Best Parameters for AdaBoost (GridSearchCV): {'learning_rate': 0.1, 'n_estimators': 100}\n"
     ]
    }
   ],
   "source": [
    "param_grid_ada = {\n",
    "    'n_estimators': [50, 100],\n",
    "    'learning_rate': [0.01, 0.1]\n",
    "}\n",
    "grid_search_ada = GridSearchCV(AdaBoostClassifier(), param_grid_ada, cv=2)\n",
    "grid_search_ada.fit(X_train, y_train)\n",
    "best_params_grid_ada = grid_search_ada.best_params_\n",
    "print(\"Best Parameters for AdaBoost (GridSearchCV):\", best_params_grid_ada)"
   ]
  },
  {
   "cell_type": "code",
   "execution_count": 44,
   "id": "ff337fee",
   "metadata": {},
   "outputs": [
    {
     "name": "stderr",
     "output_type": "stream",
     "text": [
      "C:\\Users\\TEJU\\anaconda3\\lib\\site-packages\\sklearn\\model_selection\\_search.py:318: UserWarning: The total space of parameters 4 is smaller than n_iter=10. Running 4 iterations. For exhaustive searches, use GridSearchCV.\n",
      "  warnings.warn(\n",
      "C:\\Users\\TEJU\\anaconda3\\lib\\site-packages\\sklearn\\ensemble\\_weight_boosting.py:519: FutureWarning: The SAMME.R algorithm (the default) is deprecated and will be removed in 1.6. Use the SAMME algorithm to circumvent this warning.\n",
      "  warnings.warn(\n",
      "C:\\Users\\TEJU\\anaconda3\\lib\\site-packages\\sklearn\\ensemble\\_weight_boosting.py:519: FutureWarning: The SAMME.R algorithm (the default) is deprecated and will be removed in 1.6. Use the SAMME algorithm to circumvent this warning.\n",
      "  warnings.warn(\n",
      "C:\\Users\\TEJU\\anaconda3\\lib\\site-packages\\sklearn\\ensemble\\_weight_boosting.py:519: FutureWarning: The SAMME.R algorithm (the default) is deprecated and will be removed in 1.6. Use the SAMME algorithm to circumvent this warning.\n",
      "  warnings.warn(\n",
      "C:\\Users\\TEJU\\anaconda3\\lib\\site-packages\\sklearn\\ensemble\\_weight_boosting.py:519: FutureWarning: The SAMME.R algorithm (the default) is deprecated and will be removed in 1.6. Use the SAMME algorithm to circumvent this warning.\n",
      "  warnings.warn(\n",
      "C:\\Users\\TEJU\\anaconda3\\lib\\site-packages\\sklearn\\ensemble\\_weight_boosting.py:519: FutureWarning: The SAMME.R algorithm (the default) is deprecated and will be removed in 1.6. Use the SAMME algorithm to circumvent this warning.\n",
      "  warnings.warn(\n",
      "C:\\Users\\TEJU\\anaconda3\\lib\\site-packages\\sklearn\\ensemble\\_weight_boosting.py:519: FutureWarning: The SAMME.R algorithm (the default) is deprecated and will be removed in 1.6. Use the SAMME algorithm to circumvent this warning.\n",
      "  warnings.warn(\n",
      "C:\\Users\\TEJU\\anaconda3\\lib\\site-packages\\sklearn\\ensemble\\_weight_boosting.py:519: FutureWarning: The SAMME.R algorithm (the default) is deprecated and will be removed in 1.6. Use the SAMME algorithm to circumvent this warning.\n",
      "  warnings.warn(\n",
      "C:\\Users\\TEJU\\anaconda3\\lib\\site-packages\\sklearn\\ensemble\\_weight_boosting.py:519: FutureWarning: The SAMME.R algorithm (the default) is deprecated and will be removed in 1.6. Use the SAMME algorithm to circumvent this warning.\n",
      "  warnings.warn(\n",
      "C:\\Users\\TEJU\\anaconda3\\lib\\site-packages\\sklearn\\ensemble\\_weight_boosting.py:519: FutureWarning: The SAMME.R algorithm (the default) is deprecated and will be removed in 1.6. Use the SAMME algorithm to circumvent this warning.\n",
      "  warnings.warn(\n"
     ]
    },
    {
     "name": "stdout",
     "output_type": "stream",
     "text": [
      "Best Parameters for AdaBoost (RandomizedSearchCV): {'n_estimators': 100, 'learning_rate': 0.1}\n"
     ]
    }
   ],
   "source": [
    "param_dist_ada = {\n",
    "    'n_estimators': [100, 150],\n",
    "    'learning_rate': [0.1, 1.0]\n",
    "}\n",
    "random_search_ada = RandomizedSearchCV(AdaBoostClassifier(), param_dist_ada, cv=2, n_iter=10)\n",
    "random_search_ada.fit(X_train, y_train)\n",
    "best_params_rand_ada = random_search_ada.best_params_\n",
    "print(\"Best Parameters for AdaBoost (RandomizedSearchCV):\", best_params_rand_ada)"
   ]
  },
  {
   "cell_type": "markdown",
   "id": "587049a7",
   "metadata": {},
   "source": [
    "### Results : \n",
    "Therefore, we were successfully able to run SVM, Decision tree, Random Forest and adaboost, check their accuracies, learn about tunable parameters and then apply gridSearchCV and randomizedSearchCV again on each algorithm to check what are the best hyper parameters to apply to increase accuracy. "
   ]
  }
 ],
 "metadata": {
  "kernelspec": {
   "display_name": "Python 3 (ipykernel)",
   "language": "python",
   "name": "python3"
  },
  "language_info": {
   "codemirror_mode": {
    "name": "ipython",
    "version": 3
   },
   "file_extension": ".py",
   "mimetype": "text/x-python",
   "name": "python",
   "nbconvert_exporter": "python",
   "pygments_lexer": "ipython3",
   "version": "3.9.7"
  }
 },
 "nbformat": 4,
 "nbformat_minor": 5
}
